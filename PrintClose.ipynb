{
 "cells": [
  {
   "cell_type": "code",
   "execution_count": 8,
   "metadata": {},
   "outputs": [
    {
     "name": "stdout",
     "output_type": "stream",
     "text": [
      "2021-07-20, Close: 660.50\n",
      "2021-07-21, Close: 655.29\n",
      "2021-07-22, Close: 649.26\n",
      "2021-07-23, Close: 643.38\n",
      "2021-07-26, Close: 657.62\n",
      "2021-07-27, Close: 644.78\n",
      "2021-07-28, Close: 646.98\n"
     ]
    }
   ],
   "source": [
    "import backtrader as bt\n",
    "class PrintClose(bt.Strategy):\n",
    "    def __init__(self):\n",
    "        #引用data[0]中的收盘价格数据\n",
    "        self.dataclose = self.datas[0].close\n",
    "\n",
    "    def log(self, txt, dt=None):     \n",
    "        dt = dt or self.datas[0].datetime.date(0)     \n",
    "        print('%s, %s' % (dt.isoformat(), txt)) \n",
    "        # 打印日期和收盘价格\n",
    "\n",
    "    def next(self):     \n",
    "        #将收盘价保留两位小数再输出\n",
    "        self.log('Close: %.2f' % self.dataclose[0])\n",
    "\n",
    "#初始化Cebro引擎\n",
    "cerebro = bt.Cerebro()\n",
    "##给Cebro引擎添加数据\n",
    "data = bt.feeds.YahooFinanceCSVData(dataname='TSLA.csv')\n",
    "cerebro.adddata(data)\n",
    "#给Cebro引擎添加策略\n",
    "cerebro.addstrategy(PrintClose)\n",
    "#运行Cebro引擎\n",
    "cerebro.run()"
   ]
  }
 ],
 "metadata": {
  "kernelspec": {
   "display_name": "Python 3.8.13 ('bt1')",
   "language": "python",
   "name": "python3"
  },
  "language_info": {
   "codemirror_mode": {
    "name": "ipython",
    "version": 3
   },
   "file_extension": ".py",
   "mimetype": "text/x-python",
   "name": "python",
   "nbconvert_exporter": "python",
   "pygments_lexer": "ipython3",
   "version": "3.8.13"
  },
  "orig_nbformat": 4,
  "vscode": {
   "interpreter": {
    "hash": "65906c16f3c45a258e83a13e15b641f97c4cb9c4be2534c3a5dc8f8ef16f1bfd"
   }
  }
 },
 "nbformat": 4,
 "nbformat_minor": 2
}
