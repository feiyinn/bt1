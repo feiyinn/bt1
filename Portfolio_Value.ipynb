{
 "cells": [
  {
   "cell_type": "code",
   "execution_count": 1,
   "metadata": {},
   "outputs": [
    {
     "name": "stdout",
     "output_type": "stream",
     "text": [
      "Starting Portfolio Value: 200000.00\n",
      "Final Portfolio Value: 200000.00\n"
     ]
    }
   ],
   "source": [
    "import backtrader as bt\n",
    " \n",
    "if __name__ == '__main__':\n",
    "    cerebro = bt.Cerebro()\n",
    "    cerebro.broker.setcash(200000.0)\n",
    " \n",
    "    print('Starting Portfolio Value: %.2f' % cerebro.broker.getvalue())\n",
    " \n",
    "    cerebro.run()\n",
    " \n",
    "    print('Final Portfolio Value: %.2f' % cerebro.broker.getvalue())"
   ]
  }
 ],
 "metadata": {
  "kernelspec": {
   "display_name": "Python 3.8.13 ('bt1')",
   "language": "python",
   "name": "python3"
  },
  "language_info": {
   "codemirror_mode": {
    "name": "ipython",
    "version": 3
   },
   "file_extension": ".py",
   "mimetype": "text/x-python",
   "name": "python",
   "nbconvert_exporter": "python",
   "pygments_lexer": "ipython3",
   "version": "3.8.13"
  },
  "orig_nbformat": 4,
  "vscode": {
   "interpreter": {
    "hash": "65906c16f3c45a258e83a13e15b641f97c4cb9c4be2534c3a5dc8f8ef16f1bfd"
   }
  }
 },
 "nbformat": 4,
 "nbformat_minor": 2
}
