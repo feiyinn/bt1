{
 "cells": [
  {
   "cell_type": "code",
   "execution_count": 29,
   "metadata": {},
   "outputs": [
    {
     "ename": "TypeError",
     "evalue": "'<' not supported between instances of 'NoneType' and 'float'",
     "output_type": "error",
     "traceback": [
      "\u001b[0;31m---------------------------------------------------------------------------\u001b[0m",
      "\u001b[0;31mTypeError\u001b[0m                                 Traceback (most recent call last)",
      "\u001b[1;32m/home/yinfei/quant/bt1/MA_crossover _opt.ipynb Cell 1\u001b[0m in \u001b[0;36m<cell line: 26>\u001b[0;34m()\u001b[0m\n\u001b[1;32m     <a href='vscode-notebook-cell://wsl%2Bubuntu-20.04/home/yinfei/quant/bt1/MA_crossover%20_opt.ipynb#ch0000000vscode-remote?line=32'>33</a>\u001b[0m         sharpe \u001b[39m=\u001b[39m strategy\u001b[39m.\u001b[39manalyzers\u001b[39m.\u001b[39msharpe_ratio\u001b[39m.\u001b[39mget_analysis()\n\u001b[1;32m     <a href='vscode-notebook-cell://wsl%2Bubuntu-20.04/home/yinfei/quant/bt1/MA_crossover%20_opt.ipynb#ch0000000vscode-remote?line=33'>34</a>\u001b[0m         final_results_list\u001b[39m.\u001b[39mappend([strategy\u001b[39m.\u001b[39mparams\u001b[39m.\u001b[39mpfast, \n\u001b[1;32m     <a href='vscode-notebook-cell://wsl%2Bubuntu-20.04/home/yinfei/quant/bt1/MA_crossover%20_opt.ipynb#ch0000000vscode-remote?line=34'>35</a>\u001b[0m             strategy\u001b[39m.\u001b[39mparams\u001b[39m.\u001b[39mpslow, PnL, sharpe[\u001b[39m'\u001b[39m\u001b[39msharperatio\u001b[39m\u001b[39m'\u001b[39m]])\n\u001b[0;32m---> <a href='vscode-notebook-cell://wsl%2Bubuntu-20.04/home/yinfei/quant/bt1/MA_crossover%20_opt.ipynb#ch0000000vscode-remote?line=36'>37</a>\u001b[0m sort_by_sharpe \u001b[39m=\u001b[39m \u001b[39msorted\u001b[39;49m(final_results_list, key\u001b[39m=\u001b[39;49m\u001b[39mlambda\u001b[39;49;00m x: x[\u001b[39m3\u001b[39;49m], \n\u001b[1;32m     <a href='vscode-notebook-cell://wsl%2Bubuntu-20.04/home/yinfei/quant/bt1/MA_crossover%20_opt.ipynb#ch0000000vscode-remote?line=37'>38</a>\u001b[0m                          reverse\u001b[39m=\u001b[39;49m\u001b[39mTrue\u001b[39;49;00m)\n\u001b[1;32m     <a href='vscode-notebook-cell://wsl%2Bubuntu-20.04/home/yinfei/quant/bt1/MA_crossover%20_opt.ipynb#ch0000000vscode-remote?line=38'>39</a>\u001b[0m \u001b[39mfor\u001b[39;00m line \u001b[39min\u001b[39;00m sort_by_sharpe[:\u001b[39m5\u001b[39m]:\n\u001b[1;32m     <a href='vscode-notebook-cell://wsl%2Bubuntu-20.04/home/yinfei/quant/bt1/MA_crossover%20_opt.ipynb#ch0000000vscode-remote?line=39'>40</a>\u001b[0m     \u001b[39mprint\u001b[39m(line)\n",
      "\u001b[0;31mTypeError\u001b[0m: '<' not supported between instances of 'NoneType' and 'float'"
     ]
    }
   ],
   "source": [
    "import datetime\n",
    "import backtrader as bt\n",
    "\n",
    "from strategies import *\n",
    "\n",
    "cerebro = bt.Cerebro(optreturn=False)\n",
    "\n",
    "#设置数据的参数\n",
    "data = bt.feeds.YahooFinanceCSVData(\n",
    "    dataname='TSLA.csv',\n",
    "    #fromdate=datetime.datetime(2021, 7, 20),\n",
    "    #todate=datetime.datetime(2022, 4, 2))\n",
    "    #样本外数据的设置\n",
    "    fromdate=datetime.datetime(2021, 12, 6),\n",
    "    todate=datetime.datetime(2022, 7, 19))\n",
    "\n",
    "cerebro.adddata(data)\n",
    "\n",
    "#向Cerebro引擎添加数据\n",
    "cerebro.addanalyzer(bt.analyzers.SharpeRatio, _name='sharpe_ratio')\n",
    "cerebro.optstrategy(MAcrossover, pfast=range(5, 20), pslow=range(50, 100))  \n",
    "\n",
    "#设置头寸参数\n",
    "cerebro.addsizer(bt.sizers.SizerFix, stake=3)\n",
    "\n",
    "if __name__ == '__main__':\n",
    "    optimized_runs = cerebro.run()\n",
    "\n",
    "    final_results_list = []\n",
    "    for run in optimized_runs:\n",
    "        for strategy in run:\n",
    "            PnL = round(strategy.broker.get_value() - 10000,2)\n",
    "            sharpe = strategy.analyzers.sharpe_ratio.get_analysis()\n",
    "            final_results_list.append([strategy.params.pfast, \n",
    "                strategy.params.pslow, PnL, sharpe['sharperatio']])\n",
    "\n",
    "    sort_by_sharpe = sorted(final_results_list, key=lambda x: x[3], \n",
    "                             reverse=True)\n",
    "    for line in sort_by_sharpe[:5]:\n",
    "        print(line)\n",
    "        \n"
   ]
  }
 ],
 "metadata": {
  "kernelspec": {
   "display_name": "Python 3.8.13 ('bt1')",
   "language": "python",
   "name": "python3"
  },
  "language_info": {
   "codemirror_mode": {
    "name": "ipython",
    "version": 3
   },
   "file_extension": ".py",
   "mimetype": "text/x-python",
   "name": "python",
   "nbconvert_exporter": "python",
   "pygments_lexer": "ipython3",
   "version": "3.8.13"
  },
  "orig_nbformat": 4,
  "vscode": {
   "interpreter": {
    "hash": "65906c16f3c45a258e83a13e15b641f97c4cb9c4be2534c3a5dc8f8ef16f1bfd"
   }
  }
 },
 "nbformat": 4,
 "nbformat_minor": 2
}
